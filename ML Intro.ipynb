{
 "cells": [
  {
   "cell_type": "markdown",
   "id": "331bc8fc-6811-4e4c-b3ba-2fe2f1e5cc68",
   "metadata": {},
   "source": [
    "Q1: Explain the following with an example:\n",
    "   1)Artificial Intelligence\n",
    "   2)Machine Learning\n",
    "   3)Deep Learning"
   ]
  },
  {
   "cell_type": "markdown",
   "id": "96fcb1f1-57be-4e2d-8f19-a09b7d8f396e",
   "metadata": {},
   "source": [
    "1. Artificial Intelligence (AI)\n",
    "Artificial Intelligence is the broad concept of creating intelligent agents, which are systems that can reason, learn, and act autonomously. It encompasses a wide range of techniques and applications, from simple rule-based systems to complex self-learning algorithms.\n",
    "\n",
    "Example: A self-driving car is a prime example of AI. It uses sensors to perceive its environment, applies complex algorithms to make decisions, and adjusts its behavior based on experience.\n",
    "\n",
    "2. Machine Learning (ML)\n",
    "Machine Learning is a subset of AI that focuses on developing systems that can learn from data without being explicitly programmed. These systems identify patterns in data and make predictions or decisions based on those patterns.   \n",
    "\n",
    "Example: An email spam filter is a classic ML application. It learns to classify emails as spam or not spam based on analyzing a large dataset of labeled emails.\n",
    "\n",
    "3. Deep Learning (DL)\n",
    "Deep Learning is a subset of ML that uses artificial neural networks with multiple layers to learn complex patterns from large amounts of data. It has achieved remarkable success in areas like image recognition, natural language processing, and speech recognition.\n",
    "\n",
    "Example: Image recognition systems used in facial recognition technology often employ deep learning algorithms to accurately identify individuals in images.\n",
    "\n",
    "To summarize:\n",
    "\n",
    "AI is the overarching concept of intelligent machines.\n",
    "ML is a method for teaching computers to learn from data.\n",
    "DL is a specific type of ML that uses neural networks for learning complex patterns."
   ]
  },
  {
   "cell_type": "code",
   "execution_count": null,
   "id": "2f592c8e-a077-44a3-b0a8-b8a8fbbe969c",
   "metadata": {},
   "outputs": [],
   "source": []
  },
  {
   "cell_type": "markdown",
   "id": "0252bca7-1db6-4a86-8023-1e0779ccd170",
   "metadata": {},
   "source": [
    "Q2: What is supervised learning? List some examples of supervised learning."
   ]
  },
  {
   "cell_type": "markdown",
   "id": "38f58a02-eedb-41e1-a63d-43a0988c4e8e",
   "metadata": {},
   "source": [
    "Supervised Learning-\n",
    "Supervised learning is a machine learning technique where an algorithm learns to make predictions or decisions based on labeled data. This means the data used to train the algorithm includes both input features and corresponding correct output values.   \n",
    "\n",
    "Examples of Supervised Learning:\n",
    "1)Email Spam Filtering: Classifying emails as spam or not spam based on previous labeled examples.   \n",
    "2)Image Recognition: Identifying objects within images (e.g., cats, dogs, cars) using labeled image datasets.   \n",
    "3)Credit Score Prediction: Predicting a person's creditworthiness based on historical data with known credit scores.\n",
    "4)Stock Price Prediction: Forecasting stock prices based on past price data and other relevant factors.\n",
    "5)Customer Churn Prediction: Identifying customers likely to leave a service based on their behavior and attributes.\n",
    "6)Sentiment Analysis: Determining the sentiment (positive, negative, neutral) of a piece of text.   \n"
   ]
  },
  {
   "cell_type": "code",
   "execution_count": null,
   "id": "206d9503-debc-4f4f-a2d3-3943762f39b1",
   "metadata": {},
   "outputs": [],
   "source": []
  },
  {
   "cell_type": "markdown",
   "id": "5c515143-09d5-4685-8551-459260af16c5",
   "metadata": {},
   "source": [
    "Q3:  What is unsupervised learning? List some examples of unsupervised learning."
   ]
  },
  {
   "cell_type": "markdown",
   "id": "864efcd3-4fdd-49fb-9295-3d6f2850ccc9",
   "metadata": {},
   "source": [
    "Unsupervised Learning-\n",
    "Unsupervised learning is a machine learning technique where algorithms learn from unlabeled data. Unlike supervised learning, there's no predefined output or target variable. The goal is to discover hidden patterns, structures, or relationships within the data.   \n",
    "\n",
    "Examples of Unsupervised Learning:\n",
    "\n",
    "1)Clustering: Grouping similar data points together. For example, customer segmentation based on purchasing behavior or image categorization into different objects.   \n",
    "\n",
    "2)Anomaly Detection: Identifying unusual patterns or outliers in data. This is useful in fraud detection, network security, and medical diagnosis.   \n",
    "\n",
    "3)Dimensionality Reduction: Reducing the number of features in a dataset while preserving important information. This is often used for visualization and improving algorithm performance.   \n",
    "\n",
    "4)Association Rule Learning: Discovering relationships between items. This is commonly used in market basket analysis (e.g., people who buy bread also tend to buy milk).   \n"
   ]
  },
  {
   "cell_type": "code",
   "execution_count": null,
   "id": "fccbbf36-7edf-4cf0-9e48-4b64057658d0",
   "metadata": {},
   "outputs": [],
   "source": []
  },
  {
   "cell_type": "markdown",
   "id": "21ae24b0-7f28-4d30-929c-9cca1a83cfda",
   "metadata": {},
   "source": [
    "Q4: What is the difference between AI, ML, DL, and DS?"
   ]
  },
  {
   "cell_type": "markdown",
   "id": "dd9c0d6e-14f0-4d28-9ac1-1cc9eb7c2cc9",
   "metadata": {},
   "source": [
    "1)AI (Artificial Intelligence):\n",
    "\n",
    "a)AI is the overarching field that focuses on creating machines or systems capable of intelligent behavior.\n",
    "b)It aims to simulate human-like cognitive functions such as learning, reasoning, problem-solving, perception, and language understanding.\n",
    "c)AI systems can adapt and improve their performance over time based on experience.\n",
    "d)Examples: Chatbots, autonomous vehicles, image and speech recognition systems.\n",
    "\n",
    "2)ML (Machine Learning):\n",
    "\n",
    "a)ML is a subset of AI that involves the development of algorithms that enable computers to learn from and make predictions or decisions based on data.\n",
    "b)It relies on patterns and inference rather than explicit programming for specific tasks.\n",
    "c)ML algorithms improve their performance with experience, often by adjusting their internal parameters.\n",
    "d)Examples: Email spam filters, recommendation systems, medical diagnosis algorithms.\n",
    "\n",
    "3)DL (Deep Learning):\n",
    "\n",
    "a)DL is a specialized subset of ML that uses neural networks with multiple layers (deep architectures) to model and solve complex problems.\n",
    "b)It's inspired by the structure and function of the human brain, with deep architectures capable of automatically learning hierarchical features.\n",
    "c)DL has shown remarkable success in tasks like image and speech recognition, natural language processing, and game playing.\n",
    "d)Examples: Image classification using convolutional neural networks (CNNs), language translation using recurrent neural networks (RNNs), voice assistants.\n",
    "\n",
    "4)DS (Data Science):\n",
    "\n",
    "a)DS is an interdisciplinary field that involves extracting knowledge and insights from structured and unstructured data.\n",
    "b)It combines expertise from various domains, including statistics, computer science, domain knowledge, and ML.\n",
    "c)DS encompasses data collection, data cleaning, exploratory data analysis, feature engineering, modeling, and visualization.\n",
    "d)Data scientists use tools and techniques to uncover patterns and make data-driven decisions.\n",
    "Examples: Predictive modeling, data visualization, A/B testing, sentiment analysis."
   ]
  },
  {
   "cell_type": "code",
   "execution_count": null,
   "id": "62686988-db4b-47b6-92b5-e3b94bbca8bf",
   "metadata": {},
   "outputs": [],
   "source": []
  },
  {
   "cell_type": "markdown",
   "id": "3fe82665-9277-447b-aeb8-5397721eeaec",
   "metadata": {},
   "source": [
    "Q5: What are the main differences between supervised, unsupervised, and semi-supervised learning?"
   ]
  },
  {
   "cell_type": "markdown",
   "id": "cd387ef9-c97f-410d-8f2b-864db603ca14",
   "metadata": {},
   "source": [
    "Supervised Learning:\n",
    "\n",
    "a)Labeled Data: In supervised learning, the algorithm is trained on a dataset where each input is paired with the corresponding desired output (label).\n",
    "b)Goal: The goal is to learn a mapping from inputs to outputs in order to make accurate predictions or classifications on new, unseen data.\n",
    "c)Training Process: During training, the algorithm adjusts its internal parameters to minimize the difference between its predictions and the actual labels.\n",
    "d)Examples: Image classification, spam detection, medical diagnosis.\n",
    "\n",
    "Unsupervised Learning:\n",
    "\n",
    "a)Unlabeled Data: Unsupervised learning involves working with a dataset where there are no explicit labels or target outputs provided.\n",
    "b)Goal: The main goal is to discover patterns, structures, and relationships within the data without predefined categories.\n",
    "c)Techniques: Unsupervised learning techniques include clustering, dimensionality reduction, and density estimation.\n",
    "d)Examples: Clustering similar documents, reducing dimensions for visualization, detecting anomalies in data.\n",
    "\n",
    "Semi-Supervised Learning:\n",
    "\n",
    "a)Combination of Labeled and Unlabeled Data: Semi-supervised learning uses a dataset that contains both labeled and unlabeled data.\n",
    "b)Goal: The aim is to leverage the small amount of labeled data along with the larger amount of unlabeled data to improve learning performance.\n",
    "c)Benefits: Semi-supervised learning can lead to better generalization when there's limited labeled data, as it allows the algorithm to learn from both labeled and unlabeled patterns.\n",
    "d)Examples: Training a machine translation system with a small set of translated sentence pairs and a large set of unlabeled sentences, using labeled images for a smaller class subset and unlabeled images for broader context."
   ]
  },
  {
   "cell_type": "code",
   "execution_count": null,
   "id": "a816b2f5-445c-4902-898a-a6d8941f75f3",
   "metadata": {},
   "outputs": [],
   "source": []
  },
  {
   "cell_type": "markdown",
   "id": "76420462-afc1-4506-891e-449bbc573a5e",
   "metadata": {},
   "source": [
    "Q6: What is train, test and validation split? Explain the importance of each term."
   ]
  },
  {
   "cell_type": "markdown",
   "id": "5ca48db9-1641-4cbc-96e4-49dce06dc33a",
   "metadata": {},
   "source": [
    "Training Set:\n",
    "\n",
    "a)The training set is the portion of the dataset used to train the machine learning model.\n",
    "b)It contains labeled data pairs (input features and corresponding output labels).\n",
    "c)The model learns patterns and relationships in the data during the training process.\n",
    "d)Importance: The training set is essential for the model to learn and adjust its internal parameters based on\n",
    "              the available data. A well-trained model should generalize to new, unseen data.\n",
    "\n",
    "Validation Set:\n",
    "\n",
    "a)The validation set is used to tune and optimize the model's hyperparameters.\n",
    "b)It helps in selecting the best configuration of the model by assessing its performance on validation data.\n",
    "c)Typically, hyperparameters like learning rates, regularization strengths, and architecture choices are tuned\n",
    "             using the validation set.\n",
    "d)Importance: The validation set allows you to fine-tune the model to achieve better performance on unseen data\n",
    "              without overfitting to the training data.\n",
    "\n",
    "Test Set:\n",
    "\n",
    "a)The test set is used to evaluate the final performance of the trained model.\n",
    "b)It provides an unbiased assessment of the model's generalization to new, unseen data.\n",
    "c)The model should not have seen the test set during training or hyperparameter tuning to avoid biasing the evaluation.\n",
    "d)Importance: The test set gives an indication of how well the model will perform in real-world scenarios. It \n",
    "              provides a measure of the model's ability to generalize beyond the data it was trained on.\n",
    "\n",
    "Importance of Each Term:\n",
    "\n",
    "1)Training Set Importance: The training set is where the model learns to capture patterns and relationships in the \n",
    "                           data. A well-trained model can provide accurate predictions on new data.\n",
    "2)Validation Set Importance: The validation set helps fine-tune the model's hyperparameters and prevent overfitting.\n",
    "                             It ensures that the model's performance is optimized and reliable.\n",
    "3)Test Set Importance: The test set provides an unbiased evaluation of the model's performance on completely new data.\n",
    "                       It's a crucial step to assess the model's real-world effectiveness and avoid over-optimization."
   ]
  },
  {
   "cell_type": "code",
   "execution_count": null,
   "id": "edd10350-9b0e-4d5e-b184-214940d4b71c",
   "metadata": {},
   "outputs": [],
   "source": []
  },
  {
   "cell_type": "markdown",
   "id": "dac0fd2b-87a0-4b7e-b685-644ee231c179",
   "metadata": {},
   "source": [
    "Q7: How can unsupervised learning be used in anomaly detection?"
   ]
  },
  {
   "cell_type": "markdown",
   "id": "368c7b81-aff0-41dc-8739-7b51444a30d9",
   "metadata": {},
   "source": [
    "Unsupervised learning is particularly effective for anomaly detection as it can identify unusual patterns in data without relying on pre-labeled anomalies. Here's how it works:   \n",
    "\n",
    "Common Techniques:\n",
    "\n",
    "1)Clustering:\n",
    "\n",
    "-Groups similar data points together.   \n",
    "-Anomalies often appear as outliers or in small clusters.\n",
    "-Example: In network traffic, normal patterns would form clusters, while malicious activities might be outliers.\n",
    "          \n",
    "2)Density-Based Methods:\n",
    "\n",
    "-Identifies regions of high data density.   \n",
    "-Data points in low-density regions are considered anomalies.   \n",
    "-Example: In credit card fraud detection, normal transactions form dense clusters, while fraudulent transactions are               isolated.\n",
    "\n",
    "3)One-Class Classification:\n",
    "\n",
    "-Builds a model representing normal data points.   \n",
    "-Data points that deviate significantly from the model are anomalies.\n",
    "-Example: In industrial sensor data, normal sensor readings can be modeled, and unusual values indicate potential                   equipment failures.\n",
    "\n",
    "4)Isolation Forest:\n",
    "\n",
    "-Isolates anomalies by randomly partitioning data.   \n",
    "-Anomalies require fewer partitions to be isolated.   \n",
    "-Example: Detecting fraudulent transactions in financial data.\n",
    "\n",
    "Advantages of Unsupervised Learning for Anomaly Detection:\n",
    "\n",
    "1)No labeled data required: Suitable for scenarios where anomalies are rare or unknown.   \n",
    "2)Discover unknown anomalies: Can identify previously unseen patterns.\n",
    "3)Efficient for large datasets: Can handle massive amounts of data.   \n"
   ]
  },
  {
   "cell_type": "code",
   "execution_count": null,
   "id": "39a7f95d-7312-4098-b99a-5dbe1fdc724e",
   "metadata": {},
   "outputs": [],
   "source": []
  },
  {
   "cell_type": "markdown",
   "id": "094ef3d4-f526-4ef3-818a-557acd471d83",
   "metadata": {},
   "source": [
    "Q8: List down some commonly used supervised learning algorithms and unsupervised learning algorithms."
   ]
  },
  {
   "cell_type": "markdown",
   "id": "51ce6e1e-4470-40fc-9773-04075e364ac4",
   "metadata": {},
   "source": [
    "Supervised Learning Algorithms:\n",
    "\n",
    "1)Linear Regression: Predicts a continuous target variable based on input features by fitting a linear equation.\n",
    "\n",
    "2)Logistic Regression: Used for binary classification tasks, estimating the probability that an instance belongs to a particular class.\n",
    "\n",
    "3)Decision Trees: Hierarchical structures that make decisions based on feature values to reach a classification or regression outcome.\n",
    "\n",
    "4)Random Forest: Ensemble of decision trees that improves accuracy and prevents overfitting.\n",
    "\n",
    "5)Support Vector Machines (SVM): Finds a hyperplane that best separates different classes in the data.\n",
    "\n",
    "6)K-Nearest Neighbors (KNN): Classifies instances based on the majority class of their k nearest neighbors.\n",
    "\n",
    "7)Naive Bayes: Probabilistic algorithm based on Bayes' theorem, often used for text classification and spam detection.\n",
    "\n",
    "8)Neural Networks: Deep learning architectures that learn complex patterns by mimicking the human brain's neural connections.\n",
    "\n",
    "9)Gradient Boosting: Ensemble technique that combines weak models into a strong predictive model, minimizing errors iteratively.\n",
    "\n",
    "10)XGBoost: An optimized version of gradient boosting that excels in many machine learning competitions.\n",
    "\n",
    "Unsupervised Learning Algorithms:\n",
    "\n",
    "1)K-Means Clustering: Divides data into 'k' clusters based on similarity, aiming to minimize the distance between data points within clusters.\n",
    "\n",
    "2)Hierarchical Clustering: Builds a hierarchical representation of clusters by recursively merging or splitting them.\n",
    "\n",
    "3)DBSCAN (Density-Based Spatial Clustering of Applications with Noise): Identifies clusters based on dense regions in data space.\n",
    "\n",
    "4)PCA (Principal Component Analysis): Reduces the dimensionality of data by projecting it onto a lower-dimensional space while preserving variance.\n",
    "\n",
    "5)Autoencoders: Neural network architecture used for dimensionality reduction, data denoising, and anomaly detection.\n",
    "\n",
    "6)Gaussian Mixture Models (GMM): Models data as a mixture of several Gaussian distributions, useful for density estimation and clustering.\n",
    "\n",
    "7)Isolation Forest: Randomly isolates anomalies from the majority of data points by creating splits.\n",
    "\n",
    "8)Mean Shift: Non-parametric clustering algorithm that seeks modes of data points' density function.\n",
    "\n",
    "9)Apriori Algorithm: Used for market basket analysis to find associations and correlations between items frequently bought together.\n",
    "\n",
    "10)TSNE (t-Distributed Stochastic Neighbor Embedding): Diminishes high-dimensional data to lower dimensions for visualization and pattern discovery."
   ]
  },
  {
   "cell_type": "code",
   "execution_count": null,
   "id": "c8a446dc-c558-4e9c-a9bc-af3062d172d2",
   "metadata": {},
   "outputs": [],
   "source": []
  },
  {
   "cell_type": "code",
   "execution_count": null,
   "id": "478fbcd6-dc5e-4a0e-803c-f8fd2cc5697a",
   "metadata": {},
   "outputs": [],
   "source": []
  },
  {
   "cell_type": "code",
   "execution_count": null,
   "id": "2b2d8a83-fd5d-4760-889a-8c81f26f2884",
   "metadata": {},
   "outputs": [],
   "source": []
  },
  {
   "cell_type": "code",
   "execution_count": null,
   "id": "c5049e14-eaca-486a-8a4c-75c005dd76ac",
   "metadata": {},
   "outputs": [],
   "source": []
  },
  {
   "cell_type": "code",
   "execution_count": null,
   "id": "1ac5eef6-f65f-4a47-85fc-f78c098f40fc",
   "metadata": {},
   "outputs": [],
   "source": []
  },
  {
   "cell_type": "code",
   "execution_count": null,
   "id": "43d8ffb7-664d-4618-9b5a-9be18b89c6fc",
   "metadata": {},
   "outputs": [],
   "source": []
  },
  {
   "cell_type": "code",
   "execution_count": null,
   "id": "f2809fca-01c1-41ff-9d38-c61eb9fae838",
   "metadata": {},
   "outputs": [],
   "source": []
  },
  {
   "cell_type": "code",
   "execution_count": null,
   "id": "b87fa5fa-aea4-4a18-8445-598bda9a9be7",
   "metadata": {},
   "outputs": [],
   "source": []
  },
  {
   "cell_type": "code",
   "execution_count": null,
   "id": "550dbc18-0f9e-46bf-82be-c6e7948bbee5",
   "metadata": {},
   "outputs": [],
   "source": []
  },
  {
   "cell_type": "code",
   "execution_count": null,
   "id": "d49140af-79b0-4110-97c4-53907df78836",
   "metadata": {},
   "outputs": [],
   "source": []
  },
  {
   "cell_type": "code",
   "execution_count": null,
   "id": "9cf54063-54a2-4c34-944d-3b8adc398463",
   "metadata": {},
   "outputs": [],
   "source": []
  },
  {
   "cell_type": "code",
   "execution_count": null,
   "id": "d9a24f1d-c210-4cf8-9f94-19c1ebd522e6",
   "metadata": {},
   "outputs": [],
   "source": []
  },
  {
   "cell_type": "code",
   "execution_count": null,
   "id": "ee7139c3-3f1a-443c-b394-03f303d374fa",
   "metadata": {},
   "outputs": [],
   "source": []
  },
  {
   "cell_type": "code",
   "execution_count": null,
   "id": "98da0414-e000-4ba8-9df7-b2b71f70f832",
   "metadata": {},
   "outputs": [],
   "source": []
  },
  {
   "cell_type": "code",
   "execution_count": null,
   "id": "dc36a763-a8ee-4b90-b8b4-ced856a9eff4",
   "metadata": {},
   "outputs": [],
   "source": []
  },
  {
   "cell_type": "code",
   "execution_count": null,
   "id": "0d435431-21b0-4916-ad81-bc1ddcf31c5c",
   "metadata": {},
   "outputs": [],
   "source": []
  },
  {
   "cell_type": "code",
   "execution_count": null,
   "id": "1e9cf946-27c1-4ef1-8dd2-d7a1f8d8cb5c",
   "metadata": {},
   "outputs": [],
   "source": []
  },
  {
   "cell_type": "code",
   "execution_count": null,
   "id": "5b939818-42d3-4c0c-8fe1-d0cd19e61d91",
   "metadata": {},
   "outputs": [],
   "source": []
  },
  {
   "cell_type": "code",
   "execution_count": null,
   "id": "fc8b511f-886a-4f63-b949-6e7985d57a90",
   "metadata": {},
   "outputs": [],
   "source": []
  },
  {
   "cell_type": "code",
   "execution_count": null,
   "id": "45b5016e-2caa-422f-b780-98edc05a3227",
   "metadata": {},
   "outputs": [],
   "source": []
  },
  {
   "cell_type": "code",
   "execution_count": null,
   "id": "bbb2f866-158c-4222-bc9a-1f05d83067a2",
   "metadata": {},
   "outputs": [],
   "source": []
  },
  {
   "cell_type": "code",
   "execution_count": null,
   "id": "7c6a0efe-54f9-4e8c-9ee2-b2e1ab9473e5",
   "metadata": {},
   "outputs": [],
   "source": []
  },
  {
   "cell_type": "code",
   "execution_count": null,
   "id": "0b80986c-38c3-454c-9f11-71e83a1ae17c",
   "metadata": {},
   "outputs": [],
   "source": []
  },
  {
   "cell_type": "code",
   "execution_count": null,
   "id": "61061600-41bf-4aaf-85c9-0fc37945f654",
   "metadata": {},
   "outputs": [],
   "source": []
  },
  {
   "cell_type": "code",
   "execution_count": null,
   "id": "e0df9e51-bb0f-4987-8e03-1986df3a0a60",
   "metadata": {},
   "outputs": [],
   "source": []
  },
  {
   "cell_type": "code",
   "execution_count": null,
   "id": "437cd7dd-5d9a-4d8e-9aa7-3122bdf09982",
   "metadata": {},
   "outputs": [],
   "source": []
  },
  {
   "cell_type": "code",
   "execution_count": null,
   "id": "296b6147-198b-4d21-a213-8c20afc2898e",
   "metadata": {},
   "outputs": [],
   "source": []
  },
  {
   "cell_type": "code",
   "execution_count": null,
   "id": "269b9779-ede9-433f-98dc-205192147ebd",
   "metadata": {},
   "outputs": [],
   "source": []
  },
  {
   "cell_type": "code",
   "execution_count": null,
   "id": "ea73b62f-9b3a-46ff-88a4-33462554c7c2",
   "metadata": {},
   "outputs": [],
   "source": []
  },
  {
   "cell_type": "code",
   "execution_count": null,
   "id": "45d8323b-574e-4011-90d5-606593b2113f",
   "metadata": {},
   "outputs": [],
   "source": []
  },
  {
   "cell_type": "code",
   "execution_count": null,
   "id": "fc357da6-8ae4-4df7-9cde-c0c2c055ca0b",
   "metadata": {},
   "outputs": [],
   "source": []
  }
 ],
 "metadata": {
  "kernelspec": {
   "display_name": "Python 3 (ipykernel)",
   "language": "python",
   "name": "python3"
  },
  "language_info": {
   "codemirror_mode": {
    "name": "ipython",
    "version": 3
   },
   "file_extension": ".py",
   "mimetype": "text/x-python",
   "name": "python",
   "nbconvert_exporter": "python",
   "pygments_lexer": "ipython3",
   "version": "3.10.8"
  }
 },
 "nbformat": 4,
 "nbformat_minor": 5
}
